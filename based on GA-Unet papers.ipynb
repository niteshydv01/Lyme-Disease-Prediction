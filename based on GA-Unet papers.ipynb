{
 "cells": [
  {
   "cell_type": "code",
   "execution_count": 1,
   "id": "8a49f850",
   "metadata": {},
   "outputs": [
    {
     "name": "stdout",
     "output_type": "stream",
     "text": [
      "Found 4046 images belonging to 2 classes.\n",
      "Found 507 images belonging to 2 classes.\n",
      "Found 506 images belonging to 2 classes.\n"
     ]
    }
   ],
   "source": [
    "import os\n",
    "import numpy as np\n",
    "from tensorflow.keras.preprocessing.image import ImageDataGenerator\n",
    "from tensorflow.keras.utils import to_categorical\n",
    "\n",
    "def load_data(base_dir):\n",
    "    datagen = ImageDataGenerator(rescale=1.0/255.0,\n",
    "                                 horizontal_flip=True,\n",
    "                                 vertical_flip=True,\n",
    "                                 rotation_range=20,\n",
    "                                 zoom_range=0.2)\n",
    "\n",
    "    train_gen = datagen.flow_from_directory(\n",
    "        os.path.join(base_dir, 'train'),\n",
    "        target_size=(128, 128),\n",
    "        batch_size=32,\n",
    "        class_mode='binary',\n",
    "        classes=['Negative', 'Positive']\n",
    "    )\n",
    "    test_gen = datagen.flow_from_directory(\n",
    "        os.path.join(base_dir, 'test'),\n",
    "        target_size=(128, 128),\n",
    "        batch_size=32,\n",
    "        class_mode='binary',\n",
    "        classes=['Negative', 'Positive']\n",
    "    )\n",
    "    val_gen = datagen.flow_from_directory(\n",
    "        os.path.join(base_dir, 'val'),\n",
    "        target_size=(128, 128),\n",
    "        batch_size=32,\n",
    "        class_mode='binary',\n",
    "        classes=['Negative', 'Positive']\n",
    "    )\n",
    "    return train_gen, test_gen, val_gen\n",
    "\n",
    "train_gen, test_gen, val_gen = load_data('/Users/niteshyadav/Lyme_Disease/Lyme Dataset')\n"
   ]
  },
  {
   "cell_type": "code",
   "execution_count": 3,
   "id": "2ade29e6",
   "metadata": {},
   "outputs": [],
   "source": [
    "import tensorflow as tf\n",
    "from tensorflow.keras import layers, models\n",
    "from tensorflow.keras.optimizers.legacy import Adam\n",
    "from sklearn.metrics import accuracy_score\n",
    "import random\n",
    "\n",
    "def create_model(params):\n",
    "    model = models.Sequential()\n",
    "    model.add(layers.InputLayer(input_shape=(128, 128, 3)))\n",
    "\n",
    "    for _ in range(params['num_conv_layers']):\n",
    "        model.add(layers.Conv2D(params['filters'], (3, 3), activation='relu'))\n",
    "        model.add(layers.MaxPooling2D((2, 2)))\n",
    "    model.add(layers.Flatten())\n",
    "    model.add(layers.Dense(params['dense_units'], activation='relu'))\n",
    "    model.add(layers.Dense(1, activation='sigmoid'))\n",
    "\n",
    "    model.compile(optimizer=Adam(learning_rate=params['learning_rate']),\n",
    "                  loss='binary_crossentropy',\n",
    "                  metrics=['accuracy'])\n",
    "    return model\n",
    "\n",
    "def fitness(model, train_gen, val_gen, epochs=5):\n",
    "    model.fit(train_gen, epochs=epochs, validation_data=val_gen, verbose=0)\n",
    "    val_loss, val_acc = model.evaluate(val_gen, verbose=0)\n",
    "    return val_acc\n",
    "\n",
    "def mutate(params):\n",
    "    params['num_conv_layers'] = random.choice([1, 2, 3])\n",
    "    params['filters'] = random.choice([16, 32, 64])\n",
    "    params['dense_units'] = random.choice([64, 128, 256])\n",
    "    params['learning_rate'] = random.choice([0.001, 0.0001])\n",
    "    return params\n",
    "\n",
    "def crossover(parent1, parent2):\n",
    "    child = {}\n",
    "    for key in parent1:\n",
    "        child[key] = random.choice([parent1[key], parent2[key]])\n",
    "    return child\n",
    "\n",
    "def genetic_algorithm(train_gen, val_gen, generations=10, population_size=10):\n",
    "    population = [{'num_conv_layers': random.choice([1, 2, 3]),\n",
    "                   'filters': random.choice([16, 32, 64]),\n",
    "                   'dense_units': random.choice([64, 128, 256]),\n",
    "                   'learning_rate': random.choice([0.001, 0.0001])}\n",
    "                  for _ in range(population_size)]\n",
    "    for generation in range(generations):\n",
    "        fitness_scores = []\n",
    "        for params in population:\n",
    "            model = create_model(params)\n",
    "            score = fitness(model, train_gen, val_gen)\n",
    "            fitness_scores.append((score, params))\n",
    "        fitness_scores.sort(reverse=True, key=lambda x: x[0])\n",
    "        next_population = [params for _, params in fitness_scores[:population_size//2]]\n",
    "\n",
    "        while len(next_population) < population_size:\n",
    "            parent1, parent2 = random.sample(next_population, 2)\n",
    "            child = mutate(crossover(parent1, parent2))\n",
    "            next_population.append(child)\n",
    "        population = next_population\n",
    "\n",
    "    best_params = fitness_scores[0][1]\n",
    "    best_model = create_model(best_params)\n",
    "    return best_model, best_params\n",
    "\n",
    "best_model, best_params = genetic_algorithm(train_gen, val_gen)\n",
    "\n"
   ]
  },
  {
   "cell_type": "code",
   "execution_count": 4,
   "id": "aa987fb1",
   "metadata": {},
   "outputs": [
    {
     "name": "stdout",
     "output_type": "stream",
     "text": [
      "Epoch 1/10\n",
      "127/127 [==============================] - 12s 94ms/step - loss: 0.4975 - accuracy: 0.8141 - val_loss: 0.4875 - val_accuracy: 0.8142\n",
      "Epoch 2/10\n",
      "127/127 [==============================] - 12s 91ms/step - loss: 0.4878 - accuracy: 0.8141 - val_loss: 0.4848 - val_accuracy: 0.8142\n",
      "Epoch 3/10\n",
      "127/127 [==============================] - 12s 91ms/step - loss: 0.4875 - accuracy: 0.8141 - val_loss: 0.4803 - val_accuracy: 0.8142\n",
      "Epoch 4/10\n",
      "127/127 [==============================] - 12s 92ms/step - loss: 0.4833 - accuracy: 0.8141 - val_loss: 0.4745 - val_accuracy: 0.8142\n",
      "Epoch 5/10\n",
      "127/127 [==============================] - 12s 92ms/step - loss: 0.4800 - accuracy: 0.8141 - val_loss: 0.4810 - val_accuracy: 0.8142\n",
      "Epoch 6/10\n",
      "127/127 [==============================] - 12s 97ms/step - loss: 0.4797 - accuracy: 0.8141 - val_loss: 0.4754 - val_accuracy: 0.8142\n",
      "Epoch 7/10\n",
      "127/127 [==============================] - 12s 94ms/step - loss: 0.4736 - accuracy: 0.8144 - val_loss: 0.4661 - val_accuracy: 0.8142\n",
      "Epoch 8/10\n",
      "127/127 [==============================] - 12s 94ms/step - loss: 0.4744 - accuracy: 0.8146 - val_loss: 0.4726 - val_accuracy: 0.8142\n",
      "Epoch 9/10\n",
      "127/127 [==============================] - 12s 95ms/step - loss: 0.4727 - accuracy: 0.8141 - val_loss: 0.4770 - val_accuracy: 0.8142\n",
      "Epoch 10/10\n",
      "127/127 [==============================] - 12s 93ms/step - loss: 0.4676 - accuracy: 0.8146 - val_loss: 0.4617 - val_accuracy: 0.8142\n",
      "16/16 [==============================] - 1s 66ms/step - loss: 0.4709 - accuracy: 0.8146\n",
      "Test Accuracy: 0.814595639705658\n"
     ]
    }
   ],
   "source": [
    "best_model.fit(train_gen, epochs=10, validation_data=val_gen)\n",
    "test_loss, test_acc = best_model.evaluate(test_gen)\n",
    "print(f'Test Accuracy: {test_acc}')\n"
   ]
  },
  {
   "cell_type": "code",
   "execution_count": null,
   "id": "8d67c6a7",
   "metadata": {},
   "outputs": [],
   "source": []
  },
  {
   "cell_type": "code",
   "execution_count": null,
   "id": "bad2f4f0",
   "metadata": {},
   "outputs": [],
   "source": []
  },
  {
   "cell_type": "code",
   "execution_count": null,
   "id": "7bb406aa",
   "metadata": {},
   "outputs": [],
   "source": []
  },
  {
   "cell_type": "code",
   "execution_count": null,
   "id": "2007d8e2",
   "metadata": {},
   "outputs": [],
   "source": []
  },
  {
   "cell_type": "code",
   "execution_count": null,
   "id": "bb9d6057",
   "metadata": {},
   "outputs": [],
   "source": []
  },
  {
   "cell_type": "code",
   "execution_count": null,
   "id": "e7d976a4",
   "metadata": {},
   "outputs": [],
   "source": []
  },
  {
   "cell_type": "code",
   "execution_count": null,
   "id": "6a66196f",
   "metadata": {},
   "outputs": [],
   "source": []
  },
  {
   "cell_type": "code",
   "execution_count": null,
   "id": "b2221868",
   "metadata": {},
   "outputs": [],
   "source": []
  }
 ],
 "metadata": {
  "kernelspec": {
   "display_name": "Python 3 (ipykernel)",
   "language": "python",
   "name": "python3"
  },
  "language_info": {
   "codemirror_mode": {
    "name": "ipython",
    "version": 3
   },
   "file_extension": ".py",
   "mimetype": "text/x-python",
   "name": "python",
   "nbconvert_exporter": "python",
   "pygments_lexer": "ipython3",
   "version": "3.10.9"
  }
 },
 "nbformat": 4,
 "nbformat_minor": 5
}
