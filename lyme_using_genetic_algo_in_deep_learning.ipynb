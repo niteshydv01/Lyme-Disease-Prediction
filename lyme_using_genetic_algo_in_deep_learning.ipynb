{
 "cells": [
  {
   "cell_type": "code",
   "execution_count": 4,
   "metadata": {
    "id": "nWC5PF0bnrGJ"
   },
   "outputs": [],
   "source": [
    "import os\n",
    "import cv2\n",
    "import numpy as np\n",
    "from sklearn.model_selection import train_test_split\n",
    "\n",
    "def load_images_from_folder(folder):\n",
    "    images = []\n",
    "    labels = []\n",
    "    for subfolder in ['Negative', 'Positive']:\n",
    "        label = 0 if subfolder == 'Negative' else 1\n",
    "        path = os.path.join(folder, subfolder)\n",
    "        for filename in os.listdir(path):\n",
    "            img = cv2.imread(os.path.join(path, filename))\n",
    "            if img is not None:\n",
    "                img = cv2.resize(img, (224, 224))\n",
    "                images.append(img)\n",
    "                labels.append(label)\n",
    "    return np.array(images), np.array(labels)\n",
    "\n",
    "train_images, train_labels = load_images_from_folder('/Users/niteshyadav/Lyme_Disease/train')\n",
    "test_images, test_labels = load_images_from_folder('/Users/niteshyadav/Lyme_Disease/test')\n",
    "val_images, val_labels = load_images_from_folder('/Users/niteshyadav/Lyme_Disease/val')\n",
    "\n",
    "# Normalize images\n",
    "train_images = train_images / 255.0\n",
    "test_images = test_images / 255.0\n",
    "val_images = val_images / 255.0\n"
   ]
  },
  {
   "cell_type": "code",
   "execution_count": 5,
   "metadata": {
    "id": "oNkdWvQ5n3LA"
   },
   "outputs": [],
   "source": [
    "from tensorflow.keras.models import Sequential\n",
    "from tensorflow.keras.layers import Conv2D, MaxPooling2D, Flatten, Dense, Dropout\n",
    "\n",
    "def create_cnn_model():\n",
    "    model = Sequential([\n",
    "        Conv2D(32, (3, 3), activation='relu', input_shape=(224, 224, 3)),\n",
    "        MaxPooling2D((2, 2)),\n",
    "        Conv2D(64, (3, 3), activation='relu'),\n",
    "        MaxPooling2D((2, 2)),\n",
    "        Flatten(),\n",
    "        Dense(128, activation='relu'),\n",
    "        Dropout(0.5),\n",
    "        Dense(1, activation='sigmoid')\n",
    "    ])\n",
    "    model.compile(optimizer='adam', loss='binary_crossentropy', metrics=['accuracy'])\n",
    "    return model\n",
    "\n",
    "model1 = create_cnn_model()\n",
    "model2 = create_cnn_model()\n",
    "model3 = create_cnn_model()\n",
    "\n"
   ]
  },
  {
   "cell_type": "code",
   "execution_count": 6,
   "metadata": {
    "id": "y-9QQMH8n7J8"
   },
   "outputs": [],
   "source": [
    "import random\n",
    "\n",
    "def fitness(model, X, y):\n",
    "    loss, accuracy = model.evaluate(X, y, verbose=0)\n",
    "    return accuracy\n",
    "\n",
    "def crossover(parent1, parent2):\n",
    "    # Only crossover at the dense layers\n",
    "    child = Sequential()\n",
    "    for i, (layer1, layer2) in enumerate(zip(parent1.layers, parent2.layers)):\n",
    "        if isinstance(layer1, Dense) and isinstance(layer2, Dense):\n",
    "            if random.random() > 0.5:\n",
    "                child.add(layer1)\n",
    "            else:\n",
    "                child.add(layer2)\n",
    "        else:\n",
    "            child.add(layer1)\n",
    "    child.compile(optimizer='adam', loss='binary_crossentropy', metrics=['accuracy'])\n",
    "    return child\n",
    "\n",
    "def mutate(model):\n",
    "    for layer in model.layers:\n",
    "        if isinstance(layer, Dense) and random.random() > 0.5:\n",
    "            layer.units = random.randint(64, 256)\n",
    "    model.compile(optimizer='adam', loss='binary_crossentropy', metrics=['accuracy'])\n",
    "    return model\n",
    "\n",
    "def genetic_algorithm(models, X, y, generations=10):\n",
    "    population = models\n",
    "    for generation in range(generations):\n",
    "        population = sorted(population, key=lambda model: fitness(model, X, y), reverse=True)\n",
    "        next_generation = population[:2]\n",
    "        for _ in range(len(population) - 2):\n",
    "            parent1, parent2 = random.sample(population[:10], 2)\n",
    "            child = crossover(parent1, parent2)\n",
    "            child = mutate(child)\n",
    "            next_generation.append(child)\n",
    "        population = next_generation\n",
    "    return sorted(population, key=lambda model: fitness(model, X, y), reverse=True)[0]\n",
    "\n",
    "best_model = genetic_algorithm([model1, model2, model3], train_images, train_labels)\n",
    "\n"
   ]
  },
  {
   "cell_type": "code",
   "execution_count": 8,
   "metadata": {
    "id": "LqA12Nrcn9wU"
   },
   "outputs": [
    {
     "name": "stdout",
     "output_type": "stream",
     "text": [
      "26/26 [==============================] - 2s 82ms/step\n",
      "26/26 [==============================] - 2s 89ms/step\n",
      "26/26 [==============================] - 2s 86ms/step\n",
      "26/26 [==============================] - 2s 91ms/step\n",
      "26/26 [==============================] - 3s 97ms/step\n"
     ]
    },
    {
     "data": {
      "text/html": [
       "<style>#sk-container-id-1 {color: black;background-color: white;}#sk-container-id-1 pre{padding: 0;}#sk-container-id-1 div.sk-toggleable {background-color: white;}#sk-container-id-1 label.sk-toggleable__label {cursor: pointer;display: block;width: 100%;margin-bottom: 0;padding: 0.3em;box-sizing: border-box;text-align: center;}#sk-container-id-1 label.sk-toggleable__label-arrow:before {content: \"▸\";float: left;margin-right: 0.25em;color: #696969;}#sk-container-id-1 label.sk-toggleable__label-arrow:hover:before {color: black;}#sk-container-id-1 div.sk-estimator:hover label.sk-toggleable__label-arrow:before {color: black;}#sk-container-id-1 div.sk-toggleable__content {max-height: 0;max-width: 0;overflow: hidden;text-align: left;background-color: #f0f8ff;}#sk-container-id-1 div.sk-toggleable__content pre {margin: 0.2em;color: black;border-radius: 0.25em;background-color: #f0f8ff;}#sk-container-id-1 input.sk-toggleable__control:checked~div.sk-toggleable__content {max-height: 200px;max-width: 100%;overflow: auto;}#sk-container-id-1 input.sk-toggleable__control:checked~label.sk-toggleable__label-arrow:before {content: \"▾\";}#sk-container-id-1 div.sk-estimator input.sk-toggleable__control:checked~label.sk-toggleable__label {background-color: #d4ebff;}#sk-container-id-1 div.sk-label input.sk-toggleable__control:checked~label.sk-toggleable__label {background-color: #d4ebff;}#sk-container-id-1 input.sk-hidden--visually {border: 0;clip: rect(1px 1px 1px 1px);clip: rect(1px, 1px, 1px, 1px);height: 1px;margin: -1px;overflow: hidden;padding: 0;position: absolute;width: 1px;}#sk-container-id-1 div.sk-estimator {font-family: monospace;background-color: #f0f8ff;border: 1px dotted black;border-radius: 0.25em;box-sizing: border-box;margin-bottom: 0.5em;}#sk-container-id-1 div.sk-estimator:hover {background-color: #d4ebff;}#sk-container-id-1 div.sk-parallel-item::after {content: \"\";width: 100%;border-bottom: 1px solid gray;flex-grow: 1;}#sk-container-id-1 div.sk-label:hover label.sk-toggleable__label {background-color: #d4ebff;}#sk-container-id-1 div.sk-serial::before {content: \"\";position: absolute;border-left: 1px solid gray;box-sizing: border-box;top: 0;bottom: 0;left: 50%;z-index: 0;}#sk-container-id-1 div.sk-serial {display: flex;flex-direction: column;align-items: center;background-color: white;padding-right: 0.2em;padding-left: 0.2em;position: relative;}#sk-container-id-1 div.sk-item {position: relative;z-index: 1;}#sk-container-id-1 div.sk-parallel {display: flex;align-items: stretch;justify-content: center;background-color: white;position: relative;}#sk-container-id-1 div.sk-item::before, #sk-container-id-1 div.sk-parallel-item::before {content: \"\";position: absolute;border-left: 1px solid gray;box-sizing: border-box;top: 0;bottom: 0;left: 50%;z-index: -1;}#sk-container-id-1 div.sk-parallel-item {display: flex;flex-direction: column;z-index: 1;position: relative;background-color: white;}#sk-container-id-1 div.sk-parallel-item:first-child::after {align-self: flex-end;width: 50%;}#sk-container-id-1 div.sk-parallel-item:last-child::after {align-self: flex-start;width: 50%;}#sk-container-id-1 div.sk-parallel-item:only-child::after {width: 0;}#sk-container-id-1 div.sk-dashed-wrapped {border: 1px dashed gray;margin: 0 0.4em 0.5em 0.4em;box-sizing: border-box;padding-bottom: 0.4em;background-color: white;}#sk-container-id-1 div.sk-label label {font-family: monospace;font-weight: bold;display: inline-block;line-height: 1.2em;}#sk-container-id-1 div.sk-label-container {text-align: center;}#sk-container-id-1 div.sk-container {/* jupyter's `normalize.less` sets `[hidden] { display: none; }` but bootstrap.min.css set `[hidden] { display: none !important; }` so we also need the `!important` here to be able to override the default hidden behavior on the sphinx rendered scikit-learn.org. See: https://github.com/scikit-learn/scikit-learn/issues/21755 */display: inline-block !important;position: relative;}#sk-container-id-1 div.sk-text-repr-fallback {display: none;}</style><div id=\"sk-container-id-1\" class=\"sk-top-container\"><div class=\"sk-text-repr-fallback\"><pre>StackingModel(base_models=[&lt;keras.src.engine.sequential.Sequential object at 0x1602f8820&gt;],\n",
       "              meta_model=LogisticRegression())</pre><b>In a Jupyter environment, please rerun this cell to show the HTML representation or trust the notebook. <br />On GitHub, the HTML representation is unable to render, please try loading this page with nbviewer.org.</b></div><div class=\"sk-container\" hidden><div class=\"sk-item sk-dashed-wrapped\"><div class=\"sk-label-container\"><div class=\"sk-label sk-toggleable\"><input class=\"sk-toggleable__control sk-hidden--visually\" id=\"sk-estimator-id-1\" type=\"checkbox\" ><label for=\"sk-estimator-id-1\" class=\"sk-toggleable__label sk-toggleable__label-arrow\">StackingModel</label><div class=\"sk-toggleable__content\"><pre>StackingModel(base_models=[&lt;keras.src.engine.sequential.Sequential object at 0x1602f8820&gt;],\n",
       "              meta_model=LogisticRegression())</pre></div></div></div><div class=\"sk-parallel\"><div class=\"sk-parallel-item\"><div class=\"sk-item\"><div class=\"sk-label-container\"><div class=\"sk-label sk-toggleable\"><input class=\"sk-toggleable__control sk-hidden--visually\" id=\"sk-estimator-id-2\" type=\"checkbox\" ><label for=\"sk-estimator-id-2\" class=\"sk-toggleable__label sk-toggleable__label-arrow\">meta_model: LogisticRegression</label><div class=\"sk-toggleable__content\"><pre>LogisticRegression()</pre></div></div></div><div class=\"sk-serial\"><div class=\"sk-item\"><div class=\"sk-estimator sk-toggleable\"><input class=\"sk-toggleable__control sk-hidden--visually\" id=\"sk-estimator-id-3\" type=\"checkbox\" ><label for=\"sk-estimator-id-3\" class=\"sk-toggleable__label sk-toggleable__label-arrow\">LogisticRegression</label><div class=\"sk-toggleable__content\"><pre>LogisticRegression()</pre></div></div></div></div></div></div></div></div></div></div>"
      ],
      "text/plain": [
       "StackingModel(base_models=[<keras.src.engine.sequential.Sequential object at 0x1602f8820>],\n",
       "              meta_model=LogisticRegression())"
      ]
     },
     "execution_count": 8,
     "metadata": {},
     "output_type": "execute_result"
    }
   ],
   "source": [
    "from sklearn.base import BaseEstimator, ClassifierMixin\n",
    "from sklearn.linear_model import LogisticRegression\n",
    "from sklearn.model_selection import KFold\n",
    "import numpy as np\n",
    "\n",
    "class StackingModel(BaseEstimator, ClassifierMixin):\n",
    "    def __init__(self, base_models, meta_model):\n",
    "        self.base_models = base_models\n",
    "        self.meta_model = meta_model\n",
    "\n",
    "    def fit(self, X, y):\n",
    "        self.base_models_ = [list() for _ in self.base_models]\n",
    "        self.meta_model_ = clone(self.meta_model)\n",
    "        out_of_fold_predictions = np.zeros((X.shape[0], len(self.base_models)))\n",
    "\n",
    "        for i, model in enumerate(self.base_models):\n",
    "            kfold = KFold(n_splits=5, shuffle=True, random_state=1)\n",
    "            for train_idx, holdout_idx in kfold.split(X, y):\n",
    "                instance = self._clone_keras_model(model)\n",
    "                self.base_models_[i].append(instance)\n",
    "                instance.fit(X[train_idx], y[train_idx], epochs=5, verbose=0)\n",
    "                y_pred = instance.predict(X[holdout_idx])[:, 0]\n",
    "                out_of_fold_predictions[holdout_idx, i] = y_pred\n",
    "\n",
    "        self.meta_model_.fit(out_of_fold_predictions, y)\n",
    "        return self\n",
    "\n",
    "    def _clone_keras_model(self, model):\n",
    "        cloned_model = create_cnn_model()  # Ensure this function creates the same architecture as the input model\n",
    "        cloned_model.set_weights(model.get_weights())\n",
    "        return cloned_model\n",
    "\n",
    "    def predict(self, X):\n",
    "        meta_features = np.column_stack([\n",
    "            np.mean([model.predict(X)[:, 0] for model in base_models], axis=0)\n",
    "            for base_models in self.base_models_\n",
    "        ])\n",
    "        return self.meta_model_.predict(meta_features)\n",
    "\n",
    "base_models = [best_model]\n",
    "meta_model = LogisticRegression()\n",
    "stacking_model = StackingModel(base_models=base_models, meta_model=meta_model)\n",
    "stacking_model.fit(train_images, train_labels)\n",
    "\n",
    "\n"
   ]
  },
  {
   "cell_type": "code",
   "execution_count": null,
   "metadata": {
    "id": "kAt6ZKEpohbs"
   },
   "outputs": [],
   "source": [
    "from tensorflow.keras.preprocessing.image import ImageDataGenerator\n",
    "\n",
    "# Oversampling using ImageDataGenerator\n",
    "datagen = ImageDataGenerator(horizontal_flip=True, vertical_flip=True)\n",
    "\n",
    "# Generate more positive samples\n",
    "positive_images = train_images[train_labels == 1]\n",
    "positive_labels = train_labels[train_labels == 1]\n",
    "oversampled_images = []\n",
    "oversampled_labels = []\n",
    "for _ in range(len(train_images) - len(positive_images)):\n",
    "    img, label = next(datagen.flow(positive_images, positive_labels, batch_size=1))\n",
    "    oversampled_images.append(img[0])\n",
    "    oversampled_labels.append(label[0])\n",
    "\n",
    "# Combine with original dataset\n",
    "train_images = np.concatenate((train_images, np.array(oversampled_images)))\n",
    "train_labels = np.concatenate((train_labels, np.array(oversampled_labels)))\n",
    "\n",
    "# Training with class weights\n",
    "class_weights = {0: 1., 1: len(train_labels) / np.sum(train_labels)}\n",
    "stacking_model.fit(train_images, train_labels, class_weight=class_weights)\n",
    "\n"
   ]
  },
  {
   "cell_type": "code",
   "execution_count": null,
   "metadata": {
    "id": "-IZDU0pGor0-"
   },
   "outputs": [],
   "source": [
    "# Evaluate the final model on validation and test datasets\n",
    "val_predictions = stacking_model.predict(val_images)\n",
    "test_predictions = stacking_model.predict(test_images)\n",
    "\n",
    "from sklearn.metrics import accuracy_score, confusion_matrix, classification_report\n",
    "\n",
    "print(\"Validation Accuracy:\", accuracy_score(val_labels, val_predictions))\n",
    "print(\"Test Accuracy:\", accuracy_score(test_labels, test_predictions))\n",
    "print(\"Confusion Matrix:\\n\", confusion_matrix(test_labels, test_predictions))\n",
    "print(\"Classification Report:\\n\", classification_report(test_labels, test_predictions))\n",
    "\n"
   ]
  },
  {
   "cell_type": "code",
   "execution_count": null,
   "metadata": {},
   "outputs": [],
   "source": []
  },
  {
   "cell_type": "code",
   "execution_count": null,
   "metadata": {},
   "outputs": [],
   "source": []
  }
 ],
 "metadata": {
  "accelerator": "TPU",
  "colab": {
   "gpuType": "V28",
   "provenance": []
  },
  "kernelspec": {
   "display_name": "Python 3 (ipykernel)",
   "language": "python",
   "name": "python3"
  },
  "language_info": {
   "codemirror_mode": {
    "name": "ipython",
    "version": 3
   },
   "file_extension": ".py",
   "mimetype": "text/x-python",
   "name": "python",
   "nbconvert_exporter": "python",
   "pygments_lexer": "ipython3",
   "version": "3.10.9"
  }
 },
 "nbformat": 4,
 "nbformat_minor": 1
}
